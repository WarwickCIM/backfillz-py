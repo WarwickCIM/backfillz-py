{
 "cells": [
  {
   "cell_type": "code",
   "execution_count": 1,
   "id": "52971d52-880e-47be-9cd6-51b7e1e39cde",
   "metadata": {},
   "outputs": [
    {
     "name": "stdout",
     "output_type": "stream",
     "text": [
      "Requirement already satisfied: backfillz==0.0.5 in /Users/rperera/miniconda3/lib/python3.9/site-packages (0.0.5)\n",
      "Requirement already satisfied: plotly<5.0.0,>=4.14.3 in /Users/rperera/miniconda3/lib/python3.9/site-packages (from backfillz==0.0.5) (4.14.3)\n",
      "Requirement already satisfied: importlib_metadata==3.4.0 in /Users/rperera/miniconda3/lib/python3.9/site-packages (from backfillz==0.0.5) (3.4.0)\n",
      "Requirement already satisfied: scipy<2.0.0,>=1.6.3 in /Users/rperera/miniconda3/lib/python3.9/site-packages (from backfillz==0.0.5) (1.7.0)\n",
      "Requirement already satisfied: pystan==3.0.0 in /Users/rperera/miniconda3/lib/python3.9/site-packages (from backfillz==0.0.5) (3.0.0)\n",
      "Requirement already satisfied: numpy==1.20.3 in /Users/rperera/miniconda3/lib/python3.9/site-packages (from backfillz==0.0.5) (1.20.3)\n",
      "Requirement already satisfied: zipp>=0.5 in /Users/rperera/miniconda3/lib/python3.9/site-packages (from importlib_metadata==3.4.0->backfillz==0.0.5) (3.4.1)\n",
      "Requirement already satisfied: six in /Users/rperera/miniconda3/lib/python3.9/site-packages (from plotly<5.0.0,>=4.14.3->backfillz==0.0.5) (1.15.0)\n",
      "Requirement already satisfied: retrying>=1.3.3 in /Users/rperera/miniconda3/lib/python3.9/site-packages (from plotly<5.0.0,>=4.14.3->backfillz==0.0.5) (1.3.3)\n",
      "Requirement already satisfied: httpstan<4.5,>=4.4 in /Users/rperera/miniconda3/lib/python3.9/site-packages (from pystan==3.0.0->backfillz==0.0.5) (4.4.2)\n",
      "Requirement already satisfied: pysimdjson<4.0,>=3.2 in /Users/rperera/miniconda3/lib/python3.9/site-packages (from pystan==3.0.0->backfillz==0.0.5) (3.2.0)\n",
      "Requirement already satisfied: aiohttp<4.0,>=3.6 in /Users/rperera/miniconda3/lib/python3.9/site-packages (from pystan==3.0.0->backfillz==0.0.5) (3.7.4.post0)\n",
      "Requirement already satisfied: numpy==1.20.3 in /Users/rperera/miniconda3/lib/python3.9/site-packages (from backfillz==0.0.5) (1.20.3)\n",
      "Requirement already satisfied: clikit<0.7,>=0.6 in /Users/rperera/miniconda3/lib/python3.9/site-packages (from pystan==3.0.0->backfillz==0.0.5) (0.6.2)\n",
      "Requirement already satisfied: yarl<2.0,>=1.0 in /Users/rperera/miniconda3/lib/python3.9/site-packages (from aiohttp<4.0,>=3.6->pystan==3.0.0->backfillz==0.0.5) (1.6.3)\n",
      "Requirement already satisfied: typing-extensions>=3.6.5 in /Users/rperera/miniconda3/lib/python3.9/site-packages (from aiohttp<4.0,>=3.6->pystan==3.0.0->backfillz==0.0.5) (3.10.0.0)\n",
      "Requirement already satisfied: async-timeout<4.0,>=3.0 in /Users/rperera/miniconda3/lib/python3.9/site-packages (from aiohttp<4.0,>=3.6->pystan==3.0.0->backfillz==0.0.5) (3.0.1)\n",
      "Requirement already satisfied: attrs>=17.3.0 in /Users/rperera/miniconda3/lib/python3.9/site-packages (from aiohttp<4.0,>=3.6->pystan==3.0.0->backfillz==0.0.5) (21.2.0)\n",
      "Requirement already satisfied: chardet<5.0,>=2.0 in /Users/rperera/miniconda3/lib/python3.9/site-packages (from aiohttp<4.0,>=3.6->pystan==3.0.0->backfillz==0.0.5) (3.0.4)\n",
      "Requirement already satisfied: multidict<7.0,>=4.5 in /Users/rperera/miniconda3/lib/python3.9/site-packages (from aiohttp<4.0,>=3.6->pystan==3.0.0->backfillz==0.0.5) (5.1.0)\n",
      "Requirement already satisfied: pastel<0.3.0,>=0.2.0 in /Users/rperera/miniconda3/lib/python3.9/site-packages (from clikit<0.7,>=0.6->pystan==3.0.0->backfillz==0.0.5) (0.2.1)\n",
      "Requirement already satisfied: pylev<2.0,>=1.3 in /Users/rperera/miniconda3/lib/python3.9/site-packages (from clikit<0.7,>=0.6->pystan==3.0.0->backfillz==0.0.5) (1.4.0)\n",
      "Requirement already satisfied: crashtest<0.4.0,>=0.3.0 in /Users/rperera/miniconda3/lib/python3.9/site-packages (from clikit<0.7,>=0.6->pystan==3.0.0->backfillz==0.0.5) (0.3.1)\n",
      "Requirement already satisfied: numpy==1.20.3 in /Users/rperera/miniconda3/lib/python3.9/site-packages (from backfillz==0.0.5) (1.20.3)\n",
      "Requirement already satisfied: webargs<8.0,>=7.0 in /Users/rperera/miniconda3/lib/python3.9/site-packages (from httpstan<4.5,>=4.4->pystan==3.0.0->backfillz==0.0.5) (7.0.1)\n",
      "Requirement already satisfied: marshmallow<4.0,>=3.10 in /Users/rperera/miniconda3/lib/python3.9/site-packages (from httpstan<4.5,>=4.4->pystan==3.0.0->backfillz==0.0.5) (3.12.1)\n",
      "Requirement already satisfied: aiohttp<4.0,>=3.6 in /Users/rperera/miniconda3/lib/python3.9/site-packages (from pystan==3.0.0->backfillz==0.0.5) (3.7.4.post0)\n",
      "Requirement already satisfied: setuptools>=41.0 in /Users/rperera/miniconda3/lib/python3.9/site-packages (from httpstan<4.5,>=4.4->pystan==3.0.0->backfillz==0.0.5) (51.0.0.post20201207)\n",
      "Requirement already satisfied: lz4<4.0,>=3.1 in /Users/rperera/miniconda3/lib/python3.9/site-packages (from httpstan<4.5,>=4.4->pystan==3.0.0->backfillz==0.0.5) (3.1.3)\n",
      "Requirement already satisfied: appdirs<2.0,>=1.4 in /Users/rperera/miniconda3/lib/python3.9/site-packages (from httpstan<4.5,>=4.4->pystan==3.0.0->backfillz==0.0.5) (1.4.4)\n",
      "Requirement already satisfied: six in /Users/rperera/miniconda3/lib/python3.9/site-packages (from plotly<5.0.0,>=4.14.3->backfillz==0.0.5) (1.15.0)\n",
      "Requirement already satisfied: numpy==1.20.3 in /Users/rperera/miniconda3/lib/python3.9/site-packages (from backfillz==0.0.5) (1.20.3)\n",
      "Requirement already satisfied: marshmallow<4.0,>=3.10 in /Users/rperera/miniconda3/lib/python3.9/site-packages (from httpstan<4.5,>=4.4->pystan==3.0.0->backfillz==0.0.5) (3.12.1)\n",
      "Requirement already satisfied: idna>=2.0 in /Users/rperera/miniconda3/lib/python3.9/site-packages (from yarl<2.0,>=1.0->aiohttp<4.0,>=3.6->pystan==3.0.0->backfillz==0.0.5) (2.10)\n",
      "Requirement already satisfied: multidict<7.0,>=4.5 in /Users/rperera/miniconda3/lib/python3.9/site-packages (from aiohttp<4.0,>=3.6->pystan==3.0.0->backfillz==0.0.5) (5.1.0)\n"
     ]
    }
   ],
   "source": [
    "import sys\n",
    "!{sys.executable} -m pip install backfillz==0.0.5"
   ]
  },
  {
   "cell_type": "code",
   "execution_count": 2,
   "id": "a6c6cedd-4d4d-4450-a560-52be3ca42c59",
   "metadata": {},
   "outputs": [],
   "source": [
    "from backfillz.core import Backfillz"
   ]
  },
  {
   "cell_type": "code",
   "execution_count": 11,
   "id": "c2991717-a513-4dcd-8404-ab05305befac",
   "metadata": {},
   "outputs": [
    {
     "data": {
      "text/plain": [
       "['/Users/rperera/Repo/backfillz-py/notebooks',\n",
       " '/Users/rperera/miniconda3/lib/python39.zip',\n",
       " '/Users/rperera/miniconda3/lib/python3.9',\n",
       " '/Users/rperera/miniconda3/lib/python3.9/lib-dynload',\n",
       " '',\n",
       " '/Users/rperera/miniconda3/lib/python3.9/site-packages',\n",
       " '/Users/rperera/miniconda3/lib/python3.9/site-packages/IPython/extensions',\n",
       " '/Users/rperera/.ipython']"
      ]
     },
     "execution_count": 11,
     "metadata": {},
     "output_type": "execute_result"
    }
   ],
   "source": []
  },
  {
   "cell_type": "code",
   "execution_count": 3,
   "id": "579059c5-129c-49a3-a88d-abba8b9d2a24",
   "metadata": {},
   "outputs": [
    {
     "data": {
      "text/plain": [
       "'/Users/rperera/miniconda3/bin/python'"
      ]
     },
     "execution_count": 3,
     "metadata": {},
     "output_type": "execute_result"
    }
   ],
   "source": []
  },
  {
   "cell_type": "code",
   "execution_count": null,
   "id": "af13ab66-c720-473b-bac6-d132ada77d99",
   "metadata": {},
   "outputs": [],
   "source": []
  }
 ],
 "metadata": {
  "kernelspec": {
   "display_name": "Python 3",
   "language": "python",
   "name": "python3"
  },
  "language_info": {
   "codemirror_mode": {
    "name": "ipython",
    "version": 3
   },
   "file_extension": ".py",
   "mimetype": "text/x-python",
   "name": "python",
   "nbconvert_exporter": "python",
   "pygments_lexer": "ipython3",
   "version": "3.9.1"
  }
 },
 "nbformat": 4,
 "nbformat_minor": 5
}
