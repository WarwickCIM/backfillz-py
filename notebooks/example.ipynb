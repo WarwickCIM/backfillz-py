{
 "cells": [
  {
   "cell_type": "code",
   "execution_count": 2,
   "id": "52971d52-880e-47be-9cd6-51b7e1e39cde",
   "metadata": {
    "collapsed": true,
    "jupyter": {
     "outputs_hidden": true
    },
    "tags": []
   },
   "outputs": [
    {
     "name": "stdout",
     "output_type": "stream",
     "text": [
      "Collecting backfillz==0.0.6\n",
      "  Downloading backfillz-0.0.6-py3-none-any.whl (15 kB)\n",
      "Requirement already satisfied: numpy==1.20.3 in /Users/rperera/miniconda3/lib/python3.9/site-packages (from backfillz==0.0.6) (1.20.3)\n",
      "Requirement already satisfied: importlib_metadata==3.4.0 in /Users/rperera/miniconda3/lib/python3.9/site-packages (from backfillz==0.0.6) (3.4.0)\n",
      "Requirement already satisfied: scipy<2.0.0,>=1.6.3 in /Users/rperera/miniconda3/lib/python3.9/site-packages (from backfillz==0.0.6) (1.7.0)\n",
      "Requirement already satisfied: pystan==3.0.0 in /Users/rperera/miniconda3/lib/python3.9/site-packages (from backfillz==0.0.6) (3.0.0)\n",
      "Requirement already satisfied: plotly<5.0.0,>=4.14.3 in /Users/rperera/miniconda3/lib/python3.9/site-packages (from backfillz==0.0.6) (4.14.3)\n",
      "Requirement already satisfied: zipp>=0.5 in /Users/rperera/miniconda3/lib/python3.9/site-packages (from importlib_metadata==3.4.0->backfillz==0.0.6) (3.4.1)\n",
      "Requirement already satisfied: retrying>=1.3.3 in /Users/rperera/miniconda3/lib/python3.9/site-packages (from plotly<5.0.0,>=4.14.3->backfillz==0.0.6) (1.3.3)\n",
      "Requirement already satisfied: six in /Users/rperera/miniconda3/lib/python3.9/site-packages (from plotly<5.0.0,>=4.14.3->backfillz==0.0.6) (1.15.0)\n",
      "Requirement already satisfied: pysimdjson<4.0,>=3.2 in /Users/rperera/miniconda3/lib/python3.9/site-packages (from pystan==3.0.0->backfillz==0.0.6) (3.2.0)\n",
      "Requirement already satisfied: numpy==1.20.3 in /Users/rperera/miniconda3/lib/python3.9/site-packages (from backfillz==0.0.6) (1.20.3)\n",
      "Requirement already satisfied: clikit<0.7,>=0.6 in /Users/rperera/miniconda3/lib/python3.9/site-packages (from pystan==3.0.0->backfillz==0.0.6) (0.6.2)\n",
      "Requirement already satisfied: aiohttp<4.0,>=3.6 in /Users/rperera/miniconda3/lib/python3.9/site-packages (from pystan==3.0.0->backfillz==0.0.6) (3.7.4.post0)\n",
      "Requirement already satisfied: httpstan<4.5,>=4.4 in /Users/rperera/miniconda3/lib/python3.9/site-packages (from pystan==3.0.0->backfillz==0.0.6) (4.4.2)\n",
      "Requirement already satisfied: attrs>=17.3.0 in /Users/rperera/miniconda3/lib/python3.9/site-packages (from aiohttp<4.0,>=3.6->pystan==3.0.0->backfillz==0.0.6) (21.2.0)\n",
      "Requirement already satisfied: chardet<5.0,>=2.0 in /Users/rperera/miniconda3/lib/python3.9/site-packages (from aiohttp<4.0,>=3.6->pystan==3.0.0->backfillz==0.0.6) (3.0.4)\n",
      "Requirement already satisfied: yarl<2.0,>=1.0 in /Users/rperera/miniconda3/lib/python3.9/site-packages (from aiohttp<4.0,>=3.6->pystan==3.0.0->backfillz==0.0.6) (1.6.3)\n",
      "Requirement already satisfied: typing-extensions>=3.6.5 in /Users/rperera/miniconda3/lib/python3.9/site-packages (from aiohttp<4.0,>=3.6->pystan==3.0.0->backfillz==0.0.6) (3.10.0.0)\n",
      "Requirement already satisfied: multidict<7.0,>=4.5 in /Users/rperera/miniconda3/lib/python3.9/site-packages (from aiohttp<4.0,>=3.6->pystan==3.0.0->backfillz==0.0.6) (5.1.0)\n",
      "Requirement already satisfied: async-timeout<4.0,>=3.0 in /Users/rperera/miniconda3/lib/python3.9/site-packages (from aiohttp<4.0,>=3.6->pystan==3.0.0->backfillz==0.0.6) (3.0.1)\n",
      "Requirement already satisfied: crashtest<0.4.0,>=0.3.0 in /Users/rperera/miniconda3/lib/python3.9/site-packages (from clikit<0.7,>=0.6->pystan==3.0.0->backfillz==0.0.6) (0.3.1)\n",
      "Requirement already satisfied: pylev<2.0,>=1.3 in /Users/rperera/miniconda3/lib/python3.9/site-packages (from clikit<0.7,>=0.6->pystan==3.0.0->backfillz==0.0.6) (1.4.0)\n",
      "Requirement already satisfied: pastel<0.3.0,>=0.2.0 in /Users/rperera/miniconda3/lib/python3.9/site-packages (from clikit<0.7,>=0.6->pystan==3.0.0->backfillz==0.0.6) (0.2.1)\n",
      "Requirement already satisfied: webargs<8.0,>=7.0 in /Users/rperera/miniconda3/lib/python3.9/site-packages (from httpstan<4.5,>=4.4->pystan==3.0.0->backfillz==0.0.6) (7.0.1)\n",
      "Requirement already satisfied: lz4<4.0,>=3.1 in /Users/rperera/miniconda3/lib/python3.9/site-packages (from httpstan<4.5,>=4.4->pystan==3.0.0->backfillz==0.0.6) (3.1.3)\n",
      "Requirement already satisfied: aiohttp<4.0,>=3.6 in /Users/rperera/miniconda3/lib/python3.9/site-packages (from pystan==3.0.0->backfillz==0.0.6) (3.7.4.post0)\n",
      "Requirement already satisfied: numpy==1.20.3 in /Users/rperera/miniconda3/lib/python3.9/site-packages (from backfillz==0.0.6) (1.20.3)\n",
      "Requirement already satisfied: appdirs<2.0,>=1.4 in /Users/rperera/miniconda3/lib/python3.9/site-packages (from httpstan<4.5,>=4.4->pystan==3.0.0->backfillz==0.0.6) (1.4.4)\n",
      "Requirement already satisfied: setuptools>=41.0 in /Users/rperera/miniconda3/lib/python3.9/site-packages (from httpstan<4.5,>=4.4->pystan==3.0.0->backfillz==0.0.6) (51.0.0.post20201207)\n",
      "Requirement already satisfied: marshmallow<4.0,>=3.10 in /Users/rperera/miniconda3/lib/python3.9/site-packages (from httpstan<4.5,>=4.4->pystan==3.0.0->backfillz==0.0.6) (3.12.1)\n",
      "Requirement already satisfied: six in /Users/rperera/miniconda3/lib/python3.9/site-packages (from plotly<5.0.0,>=4.14.3->backfillz==0.0.6) (1.15.0)\n",
      "Requirement already satisfied: numpy==1.20.3 in /Users/rperera/miniconda3/lib/python3.9/site-packages (from backfillz==0.0.6) (1.20.3)\n",
      "Requirement already satisfied: marshmallow<4.0,>=3.10 in /Users/rperera/miniconda3/lib/python3.9/site-packages (from httpstan<4.5,>=4.4->pystan==3.0.0->backfillz==0.0.6) (3.12.1)\n",
      "Requirement already satisfied: multidict<7.0,>=4.5 in /Users/rperera/miniconda3/lib/python3.9/site-packages (from aiohttp<4.0,>=3.6->pystan==3.0.0->backfillz==0.0.6) (5.1.0)\n",
      "Requirement already satisfied: idna>=2.0 in /Users/rperera/miniconda3/lib/python3.9/site-packages (from yarl<2.0,>=1.0->aiohttp<4.0,>=3.6->pystan==3.0.0->backfillz==0.0.6) (2.10)\n",
      "Installing collected packages: backfillz\n",
      "  Attempting uninstall: backfillz\n",
      "    Found existing installation: backfillz 0.0.5\n",
      "    Uninstalling backfillz-0.0.5:\n",
      "      Successfully uninstalled backfillz-0.0.5\n",
      "Successfully installed backfillz-0.0.6\n"
     ]
    }
   ],
   "source": [
    "# Install Backfillz from PyPI. This will bring in scipy, numpy, pystan and plotly.\n",
    "import sys\n",
    "!{sys.executable} -m pip install backfillz==0.0.6"
   ]
  },
  {
   "cell_type": "code",
   "execution_count": 17,
   "id": "a6c6cedd-4d4d-4450-a560-52be3ca42c59",
   "metadata": {},
   "outputs": [],
   "source": [
    "# Some chicanery to make PyStan work in JupyterLab.\n",
    "# https://discourse.mc-stan.org/t/pystan-3-beta-4-released/18938/2\n",
    "import nest_asyncio\n",
    "nest_asyncio.apply()\n",
    "\n",
    "# Import some of the core types.\n",
    "from backfillz.stan import Stan\n",
    "from backfillz.core import Backfillz\n",
    "\n",
    "# Let's have an example Stan model.\n",
    "import backfillz.example as example"
   ]
  },
  {
   "cell_type": "code",
   "execution_count": 18,
   "id": "c2991717-a513-4dcd-8404-ab05305befac",
   "metadata": {},
   "outputs": [
    {
     "name": "stderr",
     "output_type": "stream",
     "text": [
      "Building...\n",
      "Messages from stanc:\n",
      "Warning:\n",
      "  The parameter mu has no priors.\n",
      "Warning:\n",
      "  The parameter tau has no priors.\n",
      "Found model in cache. Done.\n",
      "Sampling...\n",
      "Messages received during sampling:\n",
      "  Gradient evaluation took 3e-05 seconds\n",
      "  1000 transitions using 10 leapfrog steps per transition would take 0.3 seconds.\n",
      "  Adjust your expectations accordingly!\n",
      "  Gradient evaluation took 3e-05 seconds\n",
      "  1000 transitions using 10 leapfrog steps per transition would take 0.3 seconds.\n",
      "  Adjust your expectations accordingly!\n",
      "  Gradient evaluation took 3e-05 seconds\n",
      "  1000 transitions using 10 leapfrog steps per transition would take 0.3 seconds.\n",
      "  Adjust your expectations accordingly!\n",
      "  Gradient evaluation took 3e-05 seconds\n",
      "  1000 transitions using 10 leapfrog steps per transition would take 0.3 seconds.\n",
      "  Adjust your expectations accordingly!\n",
      "    0 [>---------------------------]  1 sec\n",
      "Done.\n"
     ]
    }
   ],
   "source": [
    "backfillz = Backfillz(example.eight_schools.generate_fit())"
   ]
  },
  {
   "cell_type": "code",
   "execution_count": 20,
   "id": "579059c5-129c-49a3-a88d-abba8b9d2a24",
   "metadata": {},
   "outputs": [
    {
     "name": "stderr",
     "output_type": "stream",
     "text": [
      "/Users/rperera/miniconda3/lib/python3.9/site-packages/scipy/stats/__init__.py:441: RuntimeWarning: coroutine 'build.<locals>.go' was never awaited\n",
      "  from .stats import *\n",
      "RuntimeWarning: Enable tracemalloc to get the object allocation traceback\n"
     ]
    },
    {
     "ename": "AttributeError",
     "evalue": "'Stan' object has no attribute 'param_names'",
     "output_type": "error",
     "traceback": [
      "\u001b[0;31m---------------------------------------------------------------------------\u001b[0m",
      "\u001b[0;31mAttributeError\u001b[0m                            Traceback (most recent call last)",
      "\u001b[0;32m<ipython-input-20-2f6fcbb133ff>\u001b[0m in \u001b[0;36m<module>\u001b[0;34m\u001b[0m\n\u001b[1;32m      2\u001b[0m \u001b[0;32mfrom\u001b[0m \u001b[0mbackfillz\u001b[0m\u001b[0;34m.\u001b[0m\u001b[0mtrace_slice_histogram\u001b[0m \u001b[0;32mimport\u001b[0m \u001b[0mTraceSliceHistogram\u001b[0m\u001b[0;34m\u001b[0m\u001b[0;34m\u001b[0m\u001b[0m\n\u001b[1;32m      3\u001b[0m \u001b[0;34m\u001b[0m\u001b[0m\n\u001b[0;32m----> 4\u001b[0;31m \u001b[0mTraceSliceHistogram\u001b[0m\u001b[0;34m.\u001b[0m\u001b[0mplot\u001b[0m\u001b[0;34m(\u001b[0m\u001b[0mbackfillz\u001b[0m\u001b[0;34m)\u001b[0m\u001b[0;34m\u001b[0m\u001b[0;34m\u001b[0m\u001b[0m\n\u001b[0m",
      "\u001b[0;32m~/miniconda3/lib/python3.9/site-packages/backfillz/trace_slice_histogram.py\u001b[0m in \u001b[0;36mplot\u001b[0;34m(backfillz, save_plot)\u001b[0m\n\u001b[1;32m    199\u001b[0m         \u001b[0mslcs\u001b[0m\u001b[0;34m:\u001b[0m \u001b[0mList\u001b[0m\u001b[0;34m[\u001b[0m\u001b[0mSlice\u001b[0m\u001b[0;34m]\u001b[0m \u001b[0;34m=\u001b[0m \u001b[0;34m[\u001b[0m\u001b[0mSlice\u001b[0m\u001b[0;34m(\u001b[0m\u001b[0;36m0.028\u001b[0m\u001b[0;34m,\u001b[0m \u001b[0;36m0.04\u001b[0m\u001b[0;34m)\u001b[0m\u001b[0;34m,\u001b[0m \u001b[0mSlice\u001b[0m\u001b[0;34m(\u001b[0m\u001b[0;36m0.1\u001b[0m\u001b[0;34m,\u001b[0m \u001b[0;36m0.2\u001b[0m\u001b[0;34m)\u001b[0m\u001b[0;34m,\u001b[0m \u001b[0mSlice\u001b[0m\u001b[0;34m(\u001b[0m\u001b[0;36m0.4\u001b[0m\u001b[0;34m,\u001b[0m \u001b[0;36m0.9\u001b[0m\u001b[0;34m)\u001b[0m\u001b[0;34m]\u001b[0m\u001b[0;34m\u001b[0m\u001b[0;34m\u001b[0m\u001b[0m\n\u001b[1;32m    200\u001b[0m \u001b[0;34m\u001b[0m\u001b[0m\n\u001b[0;32m--> 201\u001b[0;31m         \u001b[0;32mfor\u001b[0m \u001b[0mparam\u001b[0m \u001b[0;32min\u001b[0m \u001b[0mbackfillz\u001b[0m\u001b[0;34m.\u001b[0m\u001b[0mparams\u001b[0m\u001b[0;34m[\u001b[0m\u001b[0;36m0\u001b[0m\u001b[0;34m:\u001b[0m\u001b[0;36m1\u001b[0m\u001b[0;34m]\u001b[0m\u001b[0;34m:\u001b[0m  \u001b[0;31m# just first param for now (mu)\u001b[0m\u001b[0;34m\u001b[0m\u001b[0;34m\u001b[0m\u001b[0m\n\u001b[0m\u001b[1;32m    202\u001b[0m             \u001b[0;31m# Assume scalar parameter for now; what about vectors?\u001b[0m\u001b[0;34m\u001b[0m\u001b[0;34m\u001b[0m\u001b[0;34m\u001b[0m\u001b[0m\n\u001b[1;32m    203\u001b[0m             data = ParameterSlices(\n",
      "\u001b[0;32m~/miniconda3/lib/python3.9/site-packages/backfillz/core.py\u001b[0m in \u001b[0;36mparams\u001b[0;34m(self)\u001b[0m\n\u001b[1;32m     69\u001b[0m     \u001b[0;34m@\u001b[0m\u001b[0mproperty\u001b[0m\u001b[0;34m\u001b[0m\u001b[0;34m\u001b[0m\u001b[0m\n\u001b[1;32m     70\u001b[0m     \u001b[0;32mdef\u001b[0m \u001b[0mparams\u001b[0m\u001b[0;34m(\u001b[0m\u001b[0mself\u001b[0m\u001b[0;34m)\u001b[0m \u001b[0;34m->\u001b[0m \u001b[0mList\u001b[0m\u001b[0;34m[\u001b[0m\u001b[0mstr\u001b[0m\u001b[0;34m]\u001b[0m\u001b[0;34m:\u001b[0m\u001b[0;34m\u001b[0m\u001b[0;34m\u001b[0m\u001b[0m\n\u001b[0;32m---> 71\u001b[0;31m         \u001b[0;32mreturn\u001b[0m \u001b[0mlist\u001b[0m\u001b[0;34m(\u001b[0m\u001b[0mself\u001b[0m\u001b[0;34m.\u001b[0m\u001b[0mmcmc_samples\u001b[0m\u001b[0;34m.\u001b[0m\u001b[0mparam_names\u001b[0m\u001b[0;34m)\u001b[0m\u001b[0;34m\u001b[0m\u001b[0;34m\u001b[0m\u001b[0m\n\u001b[0m\u001b[1;32m     72\u001b[0m \u001b[0;34m\u001b[0m\u001b[0m\n\u001b[1;32m     73\u001b[0m     \u001b[0;32mdef\u001b[0m \u001b[0mset_theme\u001b[0m\u001b[0;34m(\u001b[0m\u001b[0mself\u001b[0m\u001b[0;34m,\u001b[0m \u001b[0mtheme\u001b[0m\u001b[0;34m:\u001b[0m \u001b[0mBackfillzTheme\u001b[0m\u001b[0;34m,\u001b[0m \u001b[0mverbose\u001b[0m\u001b[0;34m:\u001b[0m \u001b[0mbool\u001b[0m \u001b[0;34m=\u001b[0m \u001b[0;32mTrue\u001b[0m\u001b[0;34m)\u001b[0m \u001b[0;34m->\u001b[0m \u001b[0;32mNone\u001b[0m\u001b[0;34m:\u001b[0m\u001b[0;34m\u001b[0m\u001b[0;34m\u001b[0m\u001b[0m\n",
      "\u001b[0;31mAttributeError\u001b[0m: 'Stan' object has no attribute 'param_names'"
     ]
    }
   ],
   "source": [
    "# Get one of the available plot types.\n",
    "from backfillz.trace_slice_histogram import TraceSliceHistogram\n",
    "\n",
    "TraceSliceHistogram.plot(backfillz)"
   ]
  },
  {
   "cell_type": "code",
   "execution_count": null,
   "id": "af13ab66-c720-473b-bac6-d132ada77d99",
   "metadata": {},
   "outputs": [],
   "source": []
  }
 ],
 "metadata": {
  "kernelspec": {
   "display_name": "Python 3",
   "language": "python",
   "name": "python3"
  },
  "language_info": {
   "codemirror_mode": {
    "name": "ipython",
    "version": 3
   },
   "file_extension": ".py",
   "mimetype": "text/x-python",
   "name": "python",
   "nbconvert_exporter": "python",
   "pygments_lexer": "ipython3",
   "version": "3.9.1"
  }
 },
 "nbformat": 4,
 "nbformat_minor": 5
}
