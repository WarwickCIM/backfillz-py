{
 "cells": [
  {
   "cell_type": "code",
   "execution_count": 2,
   "id": "52971d52-880e-47be-9cd6-51b7e1e39cde",
   "metadata": {},
   "outputs": [
    {
     "name": "stdout",
     "output_type": "stream",
     "text": [
      "Requirement already satisfied: backfillz in /Users/rperera/miniconda3/lib/python3.9/site-packages (0.0.0)\n",
      "Requirement already satisfied: importlib_metadata<4.0.0,>=3.4.0 in /Users/rperera/miniconda3/lib/python3.9/site-packages (from backfillz) (3.10.1)\n",
      "Requirement already satisfied: zipp>=0.5 in /Users/rperera/miniconda3/lib/python3.9/site-packages (from importlib_metadata<4.0.0,>=3.4.0->backfillz) (3.4.1)\n"
     ]
    }
   ],
   "source": [
    "import sys\n",
    "!{sys.executable} -m pip install backfillz\n"
   ]
  },
  {
   "cell_type": "code",
   "execution_count": 1,
   "id": "a6c6cedd-4d4d-4450-a560-52be3ca42c59",
   "metadata": {},
   "outputs": [
    {
     "ename": "ModuleNotFoundError",
     "evalue": "No module named 'backfillz.core'",
     "output_type": "error",
     "traceback": [
      "\u001b[0;31m---------------------------------------------------------------------------\u001b[0m",
      "\u001b[0;31mModuleNotFoundError\u001b[0m                       Traceback (most recent call last)",
      "\u001b[0;32m<ipython-input-1-38acb650e1ee>\u001b[0m in \u001b[0;36m<module>\u001b[0;34m\u001b[0m\n\u001b[0;32m----> 1\u001b[0;31m \u001b[0;32mfrom\u001b[0m \u001b[0mbackfillz\u001b[0m\u001b[0;34m.\u001b[0m\u001b[0mcore\u001b[0m \u001b[0;32mimport\u001b[0m \u001b[0mBackfillz\u001b[0m\u001b[0;34m\u001b[0m\u001b[0;34m\u001b[0m\u001b[0m\n\u001b[0m",
      "\u001b[0;31mModuleNotFoundError\u001b[0m: No module named 'backfillz.core'"
     ]
    }
   ],
   "source": [
    "from backfillz.core import Backfillz"
   ]
  },
  {
   "cell_type": "code",
   "execution_count": 11,
   "id": "c2991717-a513-4dcd-8404-ab05305befac",
   "metadata": {},
   "outputs": [
    {
     "data": {
      "text/plain": [
       "['/Users/rperera/Repo/backfillz-py/notebooks',\n",
       " '/Users/rperera/miniconda3/lib/python39.zip',\n",
       " '/Users/rperera/miniconda3/lib/python3.9',\n",
       " '/Users/rperera/miniconda3/lib/python3.9/lib-dynload',\n",
       " '',\n",
       " '/Users/rperera/miniconda3/lib/python3.9/site-packages',\n",
       " '/Users/rperera/miniconda3/lib/python3.9/site-packages/IPython/extensions',\n",
       " '/Users/rperera/.ipython']"
      ]
     },
     "execution_count": 11,
     "metadata": {},
     "output_type": "execute_result"
    }
   ],
   "source": [
    "sys.path"
   ]
  },
  {
   "cell_type": "code",
   "execution_count": 3,
   "id": "579059c5-129c-49a3-a88d-abba8b9d2a24",
   "metadata": {},
   "outputs": [
    {
     "data": {
      "text/plain": [
       "'/Users/rperera/miniconda3/bin/python'"
      ]
     },
     "execution_count": 3,
     "metadata": {},
     "output_type": "execute_result"
    }
   ],
   "source": [
    "sys.executable"
   ]
  },
  {
   "cell_type": "code",
   "execution_count": null,
   "id": "af13ab66-c720-473b-bac6-d132ada77d99",
   "metadata": {},
   "outputs": [],
   "source": []
  }
 ],
 "metadata": {
  "kernelspec": {
   "display_name": "Python 3",
   "language": "python",
   "name": "python3"
  },
  "language_info": {
   "codemirror_mode": {
    "name": "ipython",
    "version": 3
   },
   "file_extension": ".py",
   "mimetype": "text/x-python",
   "name": "python",
   "nbconvert_exporter": "python",
   "pygments_lexer": "ipython3",
   "version": "3.9.1"
  }
 },
 "nbformat": 4,
 "nbformat_minor": 5
}
