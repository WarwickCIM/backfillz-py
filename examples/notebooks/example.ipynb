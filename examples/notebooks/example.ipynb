{
 "cells": [
  {
   "cell_type": "code",
   "execution_count": 2,
   "id": "52971d52-880e-47be-9cd6-51b7e1e39cde",
   "metadata": {},
   "outputs": [
    {
     "name": "stdout",
     "output_type": "stream",
     "text": [
      "Collecting backfillz\n",
      "  Downloading backfillz-0.0.0-py3-none-any.whl (5.4 kB)\n",
      "Collecting importlib_metadata<4.0.0,>=3.4.0\n",
      "  Downloading importlib_metadata-3.10.1-py3-none-any.whl (14 kB)\n",
      "Requirement already satisfied: zipp>=0.5 in /Users/rperera/miniconda3/lib/python3.9/site-packages (from importlib_metadata<4.0.0,>=3.4.0->backfillz) (3.4.1)\n",
      "Installing collected packages: importlib-metadata, backfillz\n",
      "  Attempting uninstall: importlib-metadata\n",
      "    Found existing installation: importlib-metadata 4.6.0\n",
      "    Uninstalling importlib-metadata-4.6.0:\n",
      "      Successfully uninstalled importlib-metadata-4.6.0\n",
      "Successfully installed backfillz-0.0.0 importlib-metadata-3.10.1\n"
     ]
    }
   ],
   "source": [
    "import sys\n",
    "!{sys.executable} -m pip install backfillz"
   ]
  },
  {
   "cell_type": "code",
   "execution_count": null,
   "id": "a6c6cedd-4d4d-4450-a560-52be3ca42c59",
   "metadata": {},
   "outputs": [],
   "source": []
  }
 ],
 "metadata": {
  "kernelspec": {
   "display_name": "Python 3",
   "language": "python",
   "name": "python3"
  },
  "language_info": {
   "codemirror_mode": {
    "name": "ipython",
    "version": 3
   },
   "file_extension": ".py",
   "mimetype": "text/x-python",
   "name": "python",
   "nbconvert_exporter": "python",
   "pygments_lexer": "ipython3",
   "version": "3.9.1"
  }
 },
 "nbformat": 4,
 "nbformat_minor": 5
}
